{
 "cells": [
  {
   "cell_type": "code",
   "execution_count": 6,
   "metadata": {},
   "outputs": [
    {
     "data": {
      "text/plain": [
       "0.0303030303030303"
      ]
     },
     "execution_count": 6,
     "metadata": {},
     "output_type": "execute_result"
    }
   ],
   "source": [
    "# Question 1\n",
    "a=11/36\n",
    "b=6/36\n",
    "c=2/36\n",
    "def prob(a,b,c):\n",
    "    p = c * b\n",
    "    return (p/a)\n",
    "prob(a,b,c)"
   ]
  },
  {
   "cell_type": "code",
   "execution_count": 17,
   "metadata": {},
   "outputs": [
    {
     "name": "stdout",
     "output_type": "stream",
     "text": [
      "0.5666666666666667\n"
     ]
    }
   ],
   "source": [
    "# Question 2\n",
    "# a be the probabilty of getting black ball from the bags\n",
    "#p1 prabability of selecting from bag 1\n",
    "#p2 prabability of selecting from bag 2\n",
    "#using bayes theorem to find the probability that bag is 1 if black ball is drawn\n",
    "#p(p1/a)=(p(a/p1)*p(p1))/p(a)\n",
    "print(((6/10)*(1/2))/(9/17))"
   ]
  },
  {
   "cell_type": "code",
   "execution_count": 19,
   "metadata": {},
   "outputs": [
    {
     "name": "stdout",
     "output_type": "stream",
     "text": [
      "0.6666666666666666\n"
     ]
    }
   ],
   "source": [
    "# Question 3\n",
    "# using bayes theorem\n",
    "print(((1/6)*(2/3))/(1/6))"
   ]
  }
 ],
 "metadata": {
  "kernelspec": {
   "display_name": "Python 3",
   "language": "python",
   "name": "python3"
  },
  "language_info": {
   "codemirror_mode": {
    "name": "ipython",
    "version": 3
   },
   "file_extension": ".py",
   "mimetype": "text/x-python",
   "name": "python",
   "nbconvert_exporter": "python",
   "pygments_lexer": "ipython3",
   "version": "3.6.3"
  }
 },
 "nbformat": 4,
 "nbformat_minor": 2
}
